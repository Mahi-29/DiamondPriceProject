{
 "cells": [
  {
   "cell_type": "code",
   "execution_count": 1,
   "metadata": {},
   "outputs": [],
   "source": [
    "from datetime import datetime\n",
    "import os"
   ]
  },
  {
   "cell_type": "code",
   "execution_count": 2,
   "metadata": {},
   "outputs": [
    {
     "data": {
      "text/plain": [
       "'/mnt/c/Mahish/Ineuron_cource/Machine Learning/DiamondPriceProject'"
      ]
     },
     "execution_count": 2,
     "metadata": {},
     "output_type": "execute_result"
    }
   ],
   "source": [
    "os.getcwd()"
   ]
  },
  {
   "cell_type": "code",
   "execution_count": 3,
   "metadata": {},
   "outputs": [
    {
     "data": {
      "text/plain": [
       "'10_29_2023_09_53_34.log'"
      ]
     },
     "execution_count": 3,
     "metadata": {},
     "output_type": "execute_result"
    }
   ],
   "source": [
    "f\"{datetime.now().strftime('%m_%d_%Y_%H_%M_%S')}.log\""
   ]
  },
  {
   "cell_type": "code",
   "execution_count": 1,
   "metadata": {},
   "outputs": [],
   "source": [
    "from src.DiamondPricePrediction.logger import logging"
   ]
  },
  {
   "cell_type": "code",
   "execution_count": 6,
   "metadata": {},
   "outputs": [],
   "source": [
    "logging.info(\"i have just tested the things\")"
   ]
  },
  {
   "cell_type": "code",
   "execution_count": 8,
   "metadata": {},
   "outputs": [],
   "source": [
    "import sys\n",
    "\n",
    "class customexception(Exception):\n",
    "    def __init__(self, error_message, error_details:sys):\n",
    "        self.error_message = error_message\n",
    "        _,_,exe_tb=error_details.exc_info() ## exe_tb - execution trace back\n",
    "\n",
    "        self.lineno=exe_tb.tb_lineno\n",
    "        self.file_name=exe_tb.tb_frame.f_code.co_filename\n",
    "\n",
    "\n",
    "    def __str__(self) :\n",
    "        return \"Error occurred in python script name [{0}] line number [{1}] error message [{2}] \".format(\n",
    "            self.file_name, self.lineno, str(self.error_message))\n",
    "\n",
    "if  __name__ == \"main\":\n",
    "    try :\n",
    "        a=1/0\n",
    "    except Exception as e:\n",
    "        raise customexception(e, sys)"
   ]
  },
  {
   "cell_type": "code",
   "execution_count": 11,
   "metadata": {},
   "outputs": [
    {
     "ename": "customexception",
     "evalue": "Error occurred in python script name [/tmp/ipykernel_1252/4022817119.py] line number [2] error message [division by zero] ",
     "output_type": "error",
     "traceback": [
      "\u001b[0;31m---------------------------------------------------------------------------\u001b[0m",
      "\u001b[0;31mZeroDivisionError\u001b[0m                         Traceback (most recent call last)",
      "\u001b[1;32mc:\\Mahish\\Ineuron_cource\\Machine Learning\\DiamondPriceProject\\notebooks\\research.ipynb Cell 7\u001b[0m line \u001b[0;36m2\n\u001b[1;32m      <a href='vscode-notebook-cell:/c%3A/Mahish/Ineuron_cource/Machine%20Learning/DiamondPriceProject/notebooks/research.ipynb#W6sZmlsZQ%3D%3D?line=0'>1</a>\u001b[0m \u001b[39mtry\u001b[39;00m :\n\u001b[0;32m----> <a href='vscode-notebook-cell:/c%3A/Mahish/Ineuron_cource/Machine%20Learning/DiamondPriceProject/notebooks/research.ipynb#W6sZmlsZQ%3D%3D?line=1'>2</a>\u001b[0m         a\u001b[39m=\u001b[39m\u001b[39m1\u001b[39;49m\u001b[39m/\u001b[39;49m\u001b[39m0\u001b[39;49m\n\u001b[1;32m      <a href='vscode-notebook-cell:/c%3A/Mahish/Ineuron_cource/Machine%20Learning/DiamondPriceProject/notebooks/research.ipynb#W6sZmlsZQ%3D%3D?line=2'>3</a>\u001b[0m \u001b[39mexcept\u001b[39;00m \u001b[39mException\u001b[39;00m \u001b[39mas\u001b[39;00m e:\n",
      "\u001b[0;31mZeroDivisionError\u001b[0m: division by zero",
      "\nDuring handling of the above exception, another exception occurred:\n",
      "\u001b[0;31mcustomexception\u001b[0m                           Traceback (most recent call last)",
      "\u001b[1;32mc:\\Mahish\\Ineuron_cource\\Machine Learning\\DiamondPriceProject\\notebooks\\research.ipynb Cell 7\u001b[0m line \u001b[0;36m4\n\u001b[1;32m      <a href='vscode-notebook-cell:/c%3A/Mahish/Ineuron_cource/Machine%20Learning/DiamondPriceProject/notebooks/research.ipynb#W6sZmlsZQ%3D%3D?line=1'>2</a>\u001b[0m         a\u001b[39m=\u001b[39m\u001b[39m1\u001b[39m\u001b[39m/\u001b[39m\u001b[39m0\u001b[39m\n\u001b[1;32m      <a href='vscode-notebook-cell:/c%3A/Mahish/Ineuron_cource/Machine%20Learning/DiamondPriceProject/notebooks/research.ipynb#W6sZmlsZQ%3D%3D?line=2'>3</a>\u001b[0m \u001b[39mexcept\u001b[39;00m \u001b[39mException\u001b[39;00m \u001b[39mas\u001b[39;00m e:\n\u001b[0;32m----> <a href='vscode-notebook-cell:/c%3A/Mahish/Ineuron_cource/Machine%20Learning/DiamondPriceProject/notebooks/research.ipynb#W6sZmlsZQ%3D%3D?line=3'>4</a>\u001b[0m     \u001b[39mraise\u001b[39;00m customexception(e, sys)\n",
      "\u001b[0;31mcustomexception\u001b[0m: Error occurred in python script name [/tmp/ipykernel_1252/4022817119.py] line number [2] error message [division by zero] "
     ]
    }
   ],
   "source": [
    "try :\n",
    "        a=1/0\n",
    "except Exception as e:\n",
    "    raise customexception(e, sys)"
   ]
  },
  {
   "cell_type": "code",
   "execution_count": null,
   "metadata": {},
   "outputs": [],
   "source": []
  }
 ],
 "metadata": {
  "kernelspec": {
   "display_name": "Python 3 (ipykernel)",
   "language": "python",
   "name": "python3"
  },
  "language_info": {
   "codemirror_mode": {
    "name": "ipython",
    "version": 3
   },
   "file_extension": ".py",
   "mimetype": "text/x-python",
   "name": "python",
   "nbconvert_exporter": "python",
   "pygments_lexer": "ipython3",
   "version": "3.10.12"
  }
 },
 "nbformat": 4,
 "nbformat_minor": 4
}
